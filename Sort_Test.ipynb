{
  "nbformat": 4,
  "nbformat_minor": 0,
  "metadata": {
    "colab": {
      "provenance": [],
      "authorship_tag": "ABX9TyMQacoB+kNt2g7fE+yV9j/F",
      "include_colab_link": true
    },
    "kernelspec": {
      "name": "python3",
      "display_name": "Python 3"
    },
    "language_info": {
      "name": "python"
    }
  },
  "cells": [
    {
      "cell_type": "markdown",
      "metadata": {
        "id": "view-in-github",
        "colab_type": "text"
      },
      "source": [
        "<a href=\"https://colab.research.google.com/github/martosfre/algoritmos_optimizacion/blob/main/Sort_Test.ipynb\" target=\"_parent\"><img src=\"https://colab.research.google.com/assets/colab-badge.svg\" alt=\"Open In Colab\"/></a>"
      ]
    },
    {
      "cell_type": "code",
      "execution_count": 2,
      "metadata": {
        "colab": {
          "base_uri": "https://localhost:8080/"
        },
        "id": "6HhaMN2XCQ7K",
        "outputId": "18f45cb9-478f-48ae-bdd0-970039d68bf7"
      },
      "outputs": [
        {
          "output_type": "stream",
          "name": "stdout",
          "text": [
            "Requirement already satisfied: sorting in /usr/local/lib/python3.10/dist-packages (1.0.3)\n"
          ]
        }
      ],
      "source": [
        "!pip install sorting"
      ]
    },
    {
      "cell_type": "code",
      "source": [
        "import sorting\n",
        "lista = [15,3,18,23,46,89,4]\n",
        "lista_ordenada = sorting.bubble(lista)\n",
        "print(f'Lista Ordenada: {lista_ordenada}')"
      ],
      "metadata": {
        "colab": {
          "base_uri": "https://localhost:8080/"
        },
        "id": "RTFgxmjGE6PV",
        "outputId": "f1234d32-8591-4266-92e2-e308e6a58f99"
      },
      "execution_count": 3,
      "outputs": [
        {
          "output_type": "stream",
          "name": "stdout",
          "text": [
            "Lista Ordenada: [3, 4, 15, 18, 23, 46, 89]\n"
          ]
        }
      ]
    }
  ]
}